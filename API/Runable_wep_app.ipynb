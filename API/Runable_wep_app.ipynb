{
  "cells": [
    {
      "cell_type": "code",
      "execution_count": 2,
      "metadata": {
        "colab": {
          "base_uri": "https://localhost:8080/"
        },
        "id": "q6ZdhSW-yhJd",
        "outputId": "87fa3b54-7e29-4ada-c494-51905d7d97b1"
      },
      "outputs": [
        {
          "name": "stdout",
          "output_type": "stream",
          "text": [
            "  Installing build dependencies ... \u001b[?25l\u001b[?25hdone\n",
            "  Getting requirements to build wheel ... \u001b[?25l\u001b[?25hdone\n",
            "    Preparing wheel metadata ... \u001b[?25l\u001b[?25hdone\n",
            "  Building wheel for gdown (PEP 517) ... \u001b[?25l\u001b[?25hdone\n",
            "/usr/local/lib/python3.7/dist-packages/gdown/cli.py:131: FutureWarning: Option `--id` was deprecated in version 4.3.1 and will be removed in 5.0. You don't need to pass it anymore to use a file ID.\n",
            "  category=FutureWarning,\n",
            "Downloading...\n",
            "From: https://drive.google.com/uc?id=1D2HCvOqIPktRnTQ_kwCo3e5cxcaS2-q8\n",
            "To: /content/vanilla_mt5.pth\n",
            "100% 2.33G/2.33G [00:23<00:00, 100MB/s]\n"
          ]
        }
      ],
      "source": [
        "!pip install -q -U --no-cache-dir gdown --pre\n",
        "!gdown --id 1D2HCvOqIPktRnTQ_kwCo3e5cxcaS2-q8\n",
        "!pip install -q git+https://github.com/AhmedAdelDraz/sumy.git  tashaphyne pyarabic transformers sentencepiece streamlit pyngrok\n",
        "!wget -q https://raw.githubusercontent.com/Ibn-mohey/Arabic-Text-Summarization/main/API/utiles.py\n",
        "!wget -q https://raw.githubusercontent.com/Ibn-mohey/Arabic-Text-Summarization/main/API/webapp.py\n",
        
        "from pyngrok import ngrok\n",
        "!ngrok authtoken 2715pAcHwLUxbsiD96b0IZot6bV_4j93p7KrnrftMNzBzt4Wf\n",
        "# kill any tunnel that is open\n",
        "ngrok.kill()\n",
        "# Open a HTTP tunnel on the port 8501\n",
        "public_url = ngrok.connect(8501)\n",
        "print(public_url)\n"
      ]
    },
    {
      "cell_type": "code",
      "execution_count": 4,
      "metadata": {
        "colab": {
          "base_uri": "https://localhost:8080/"
        },
        "id": "H6l8byHmy7Xp",
        "outputId": "7af41a41-1682-420b-f202-5a7742aeaec9"
      },
      "outputs": [
        {
          "name": "stdout",
          "output_type": "stream",
          "text": [
            "Requirement already satisfied: pyngrok in /usr/local/lib/python3.7/dist-packages (5.1.0)\n",
            "Requirement already satisfied: PyYAML in /usr/local/lib/python3.7/dist-packages (from pyngrok) (6.0)\n"
          ]
        }
      ],
      "source": [
        "public_url\n",
        "!streamlit run webapp.py --server.enableWebsocketCompression=false\n",
        "ngrok.kill()"
      ]
    },
    {
      "cell_type": "code",
      "execution_count": null,
      "metadata": {
        "id": "LvRxKZxN2Ymo"
      },
      "outputs": [],
      "source": [
        "ngrok.kill()"
      ]
    }
  ],
  "metadata": {
    "colab": {
      "collapsed_sections": [],
      "name": "ourWepp app",
      "provenance": []
    },
    "kernelspec": {
      "display_name": "Python 3",
      "name": "python3"
    },
    "language_info": {
      "name": "python"
    }
  },
  "nbformat": 4,
  "nbformat_minor": 0
}
